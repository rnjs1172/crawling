{
 "cells": [
  {
   "cell_type": "code",
   "execution_count": 1,
   "metadata": {
    "collapsed": true
   },
   "outputs": [],
   "source": [
    "import requests\n",
    "from bs4 import BeautifulSoup\n",
    "import pandas as pd"
   ]
  },
  {
   "cell_type": "code",
   "execution_count": 52,
   "metadata": {
    "collapsed": true
   },
   "outputs": [],
   "source": [
    "## 일단 10page 까지만 긁어오자\n",
    "href_1 = []\n",
    "title_1 = []\n",
    "\n",
    "for page_num in range(1,3):\n",
    "    url_1 = \"http://www.alba.co.kr/story/albastory/StoryList.asp?page=\"+str(page_num)+\"&pagesize=20&btypecd=101&schType=&schText=&schParam1=&schParam2=&boardType=1&OrderBy=regdt\"\n",
    "    html_1 = requests.get(url_1).text\n",
    "    soup_1 = BeautifulSoup(html_1,\"html.parser\")\n",
    "    hr = []\n",
    "    ti = []\n",
    "    for tag in soup_1.select(\"#Container .formList tr > .title > a\"): ### <strong> 까지 않가고 a 까지만 가도 text 다나온다.\n",
    "        h = []\n",
    "        h.append(tag[\"href\"])\n",
    "        h[0] = \"http://www.alba.co.kr/story\" + h[0]\n",
    "        hr.append(h)\n",
    "        ti.append(tag.text)\n",
    "    ### 공지문은 지우자!\n",
    "    hr[0:5] = []\n",
    "    ti[0:5] = []\n",
    "    href_1.extend(hr)\n",
    "    title_1.extend(ti)\n",
    "\n",
    "    "
   ]
  },
  {
   "cell_type": "code",
   "execution_count": 59,
   "metadata": {
    "collapsed": true
   },
   "outputs": [],
   "source": [
    "text_1 = []\n",
    "for i in range(1,41):\n",
    "    url_2 = href_1[i-1][0]\n",
    "    html_2 = requests.get(url_2).text\n",
    "    soup_2 = BeautifulSoup(html_2,\"html.parser\")\n",
    "    for tag_2 in soup_2.select(\"#SubContents .formView .view\"):\n",
    "        print(tag_2.text)\n",
    "        "
   ]
  },
  {
   "cell_type": "code",
   "execution_count": 63,
   "metadata": {
    "collapsed": true
   },
   "outputs": [],
   "source": [
    "href_2 = []\n",
    "title_2 = []\n",
    "for page_num in range(1,500):\n",
    "    url_1 = \"http://www.alba.co.kr/story/albastory/StoryList.asp?page=\"+str(page_num)+\"&pagesize=20&btypecd=101&schType=&schText=&schParam1=&schParam2=&boardType=1&OrderBy=regdt\"\n",
    "    html_1 = requests.get(url_1).text\n",
    "    soup_1 = BeautifulSoup(html_1,\"html.parser\")\n",
    "    hr = []\n",
    "    ti = []\n",
    "    for tag in soup_1.select(\"#Container .formList tr > .title > a\"): ### <strong> 까지 않가고 a 까지만 가도 text 다나온다.\n",
    "        h = []\n",
    "        h.append(tag[\"href\"])\n",
    "        h[0] = \"http://www.alba.co.kr/story\" + h[0]\n",
    "        hr.append(h)\n",
    "        ti.append(tag.text)\n",
    "    ### 공지문은 지우자!\n",
    "    hr[0:5] = []\n",
    "    ti[0:5] = []\n",
    "    href_2.extend(hr)\n",
    "    title_2.extend(ti)"
   ]
  },
  {
   "cell_type": "code",
   "execution_count": 64,
   "metadata": {
    "collapsed": true
   },
   "outputs": [],
   "source": [
    "dataframe_1 = pd.DataFrame(title_2)"
   ]
  },
  {
   "cell_type": "code",
   "execution_count": 66,
   "metadata": {
    "collapsed": true
   },
   "outputs": [],
   "source": [
    "dataframe_1.to_csv(\"C:\\\\Users\\\\Kwon\\\\Desktop\\\\alba.csv\")"
   ]
  },
  {
   "cell_type": "code",
   "execution_count": null,
   "metadata": {
    "collapsed": true
   },
   "outputs": [],
   "source": [
    "from bs4 import BeautifulSoup\n",
    "import requests\n",
    "\n",
    "url_1 ="
   ]
  }
 ],
 "metadata": {
  "kernelspec": {
   "display_name": "Python 3",
   "language": "python",
   "name": "python3"
  },
  "language_info": {
   "codemirror_mode": {
    "name": "ipython",
    "version": 3
   },
   "file_extension": ".py",
   "mimetype": "text/x-python",
   "name": "python",
   "nbconvert_exporter": "python",
   "pygments_lexer": "ipython3",
   "version": "3.6.1"
  }
 },
 "nbformat": 4,
 "nbformat_minor": 2
}
