{
 "cells": [
  {
   "cell_type": "code",
   "execution_count": 1,
   "metadata": {
    "collapsed": true
   },
   "outputs": [],
   "source": [
    "from urllib.request import urlopen\n",
    "from selenium import webdriver\n",
    "from bs4 import BeautifulSoup\n",
    "import re"
   ]
  },
  {
   "cell_type": "code",
   "execution_count": 3,
   "metadata": {},
   "outputs": [],
   "source": [
    "#### 드라이버 이용하기에는  클릭은 순차적으로 하는 방법을 모르겠다. \n",
    "\n",
    "driver = webdriver.Chrome('C:/Users/Kwon/Desktop/textmining_malltail/selenium/chromedriver')\n",
    "driver.implicitly_wait(3)\n",
    "down_url='http://hkconsensus.hankyung.com/apps.analysis/analysis.list?&sdate=2016-10-09&edate=2017-10-09&search_value=BUSINESS&search_text=035420&order_type=&pagenum=80'\n",
    "driver.get(down_url)\n",
    "down_click = driver.find_element_by_class_name(\"dv_input\")\n",
    "down_click.click()\n"
   ]
  },
  {
   "cell_type": "code",
   "execution_count": null,
   "metadata": {
    "collapsed": true
   },
   "outputs": [],
   "source": [
    "### 그냥 re"
   ]
  }
 ],
 "metadata": {
  "kernelspec": {
   "display_name": "Python 3",
   "language": "python",
   "name": "python3"
  },
  "language_info": {
   "codemirror_mode": {
    "name": "ipython",
    "version": 3
   },
   "file_extension": ".py",
   "mimetype": "text/x-python",
   "name": "python",
   "nbconvert_exporter": "python",
   "pygments_lexer": "ipython3",
   "version": "3.6.1"
  }
 },
 "nbformat": 4,
 "nbformat_minor": 2
}
